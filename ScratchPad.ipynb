{
 "cells": [
  {
   "cell_type": "code",
   "execution_count": 78,
   "metadata": {},
   "outputs": [],
   "source": [
    "import csv\n",
    "import pandas as pd\n",
    "import os"
   ]
  },
  {
   "cell_type": "markdown",
   "metadata": {},
   "source": [
    "Check if arguement is a file or folder\n",
    "If file (CSV):\n",
    "    Extract \n",
    "        - Extract peak heights, peak ratio, integration, integration ratio\n",
    "If folder:\n",
    "    Iterate through folder\n",
    "        - Get time from all SPC files\n",
    "        - Extract peak heights, peak ratio, integration, integration ratio\n",
    "Save data to O/P ratio CSV"
   ]
  },
  {
   "cell_type": "code",
   "execution_count": 80,
   "metadata": {},
   "outputs": [
    {
     "name": "stdout",
     "output_type": "stream",
     "text": [
      "9\n"
     ]
    }
   ],
   "source": []
  },
  {
   "cell_type": "code",
   "execution_count": 69,
   "metadata": {},
   "outputs": [
    {
     "name": "stdout",
     "output_type": "stream",
     "text": [
      "                                      Filename    Para peak    Ortho peak  \\\n",
      "0  20220412_H2_154PSI_0.5SLM_77.3K_1_00000.csv  6884.656541  13577.626364   \n",
      "\n",
      "     Para peak percent   Ortho peak percent  O/P peak ratio  Para integral  \\\n",
      "0  [33.64559356824121]  [66.35440643175879]        1.972157   33001.029569   \n",
      "\n",
      "   Ortho integral Para integral percent Ortho integral percent  \n",
      "0    60521.261552     [35.286806143685]      [64.713193856315]  \n"
     ]
    }
   ],
   "source": [
    "# Classes for organizing H state info\n",
    "class Ortho:\n",
    "    range = [580, 595]\n",
    "    peak = 0\n",
    "    integral = 0\n",
    "\n",
    "class Para:\n",
    "    range = [347, 365]\n",
    "    peak = 0\n",
    "    integral = 0\n",
    "\n",
    "# Location of CSV spectrum file\n",
    "file_path = '20220412 H2 test LN2 DUT2 0.5in8cm/20220412_H2_154PSI_0.5SLM_77.3K_1_00000.csv'\n",
    "\n",
    "\n",
    "def ratio_finder(file_path):\n",
    "    # Create data frame\n",
    "    df = pd.read_csv(file_path)\n",
    "    \n",
    "    # Iterate through rows\n",
    "    for index, row in df.iterrows():\n",
    "        wl = row[0]\n",
    "        count = row[1]\n",
    "\n",
    "        # Find peak ranges, integrate them, and save maximum peak height\n",
    "        if wl < Ortho.range[1] and wl > Ortho.range[0]:\n",
    "            Ortho.peak = max(Ortho.peak, count)\n",
    "            Ortho.integral += count\n",
    "        if wl < Para.range[1] and wl > Para.range[0]:\n",
    "            Para.peak = max(Para.peak, count)\n",
    "            Para.integral += count\n",
    "\n",
    "    # Output dictionary \n",
    "    output = {}\n",
    "    output['Filename'] = file_path.split('/')[-1]\n",
    "\n",
    "    # Data relating to peak height\n",
    "    peak_sum = [Para.peak + Ortho.peak]\n",
    "    output['Para peak'] = [Para.peak]\n",
    "    output['Ortho peak'] = [Ortho.peak]\n",
    "    output['Para peak percent'] = [Para.peak / peak_sum * 100]\n",
    "    output['Ortho peak percent'] = [Ortho.peak / peak_sum * 100]\n",
    "    output['O/P peak ratio'] = [Ortho.peak / Para.peak]\n",
    "\n",
    "    # Data relating to integration\n",
    "    integral_sum = [Para.integral + Ortho.integral]\n",
    "    output['Para integral'] = [Para.integral]\n",
    "    output['Ortho integral'] = [Ortho.integral]\n",
    "    output['Para integral percent'] = [Para.integral / integral_sum * 100]\n",
    "    output['Ortho integral percent'] = [Ortho.integral / integral_sum * 100]\n",
    "\n",
    "    return output\n",
    "\n",
    "result = ratio_finder(file_path)\n",
    "\n",
    "df = pd.DataFrame.from_dict(result)\n",
    "df.to_csv('O_P_Ratios.csv', mode='a', header=False)\n",
    "print(df)"
   ]
  },
  {
   "cell_type": "code",
   "execution_count": 77,
   "metadata": {},
   "outputs": [
    {
     "name": "stdout",
     "output_type": "stream",
     "text": [
      "20220412_H2_154PSI_0.5SLM_77.3K_1_00000.csv\n",
      "0    20220412_H2_154PSI_0.5SLM_77.3K_1_00000.csv\n",
      "1    20220412_H2_154PSI_0.5SLM_77.3K_1_00000.csv\n",
      "Name: Filename, dtype: object\n",
      "found\n",
      "found\n"
     ]
    }
   ],
   "source": [
    "# add time stamps from the SPC files \n",
    "\n",
    "df = pd.read_csv('O_P_Ratios.csv')\n",
    "test = '20220412 H2 test LN2 DUT2 0.5in8cm/20220412_H2_154PSI_0.5SLM_77.3K_1_00000.csv'\n",
    "filename = test.split('/')[-1]\n",
    "names = df['Filename']\n",
    "print(filename)\n",
    "print(names)\n",
    "\n",
    "for row in names:\n",
    "    if row == filename:\n",
    "        print('found')\n",
    "\n"
   ]
  },
  {
   "cell_type": "code",
   "execution_count": 92,
   "metadata": {},
   "outputs": [],
   "source": [
    "'''\n",
    "Scripts for formatting file names\n",
    "'''\n",
    "\n",
    "import os\n",
    "\n",
    "path = 'C:\\\\Users\\\\Quantum\\\\Desktop\\\\Raman Spectra\\\\20220407 H2 test 30K'\n",
    "\n",
    "for filename in os.listdir(path):\n",
    "    n = filename.split('-')\n",
    "    os.rename(path + '\\\\' + filename, path + '\\\\' + '_'.join(n))\n",
    "\n",
    "# for filename in os.listdir(path):\n",
    "#     print(filename)\n",
    "#     n = filename.split(' ')\n",
    "#     n.remove('Test')\n",
    "#     print('_'.join(n))\n",
    "#     os.rename(path + '\\\\' + filename, path + '\\\\' + '_'.join(n))"
   ]
  },
  {
   "cell_type": "code",
   "execution_count": 22,
   "metadata": {},
   "outputs": [
    {
     "name": "stdout",
     "output_type": "stream",
     "text": [
      "True\n",
      "True\n",
      "Int64Index([0, 1], dtype='int64')\n"
     ]
    }
   ],
   "source": [
    "import pandas as pd\n",
    "from pandas.api.types import is_numeric_dtype\n",
    "\n",
    "df = pd.read_csv('C:\\\\Users\\\\Quantum\\\\Desktop\\\\Raman Spectra\\\\20220412 H2 test LN2 DUT2 0.5in8cm\\\\20220412_H2_154PSI_0.5SLM_77.3K_1_00000.csv', header=None)\n",
    "\n",
    "print(is_numeric_dtype(df[0]))\n",
    "print(is_numeric_dtype(df[1]))\n",
    "print(df.columns)\n"
   ]
  },
  {
   "cell_type": "code",
   "execution_count": 29,
   "metadata": {},
   "outputs": [],
   "source": [
    "df = pd.read_csv('C:\\\\Users\\\\Quantum\\\\Desktop\\\\Raman Spectra\\\\20220406 H2 equilibrium tests\\\\20220406_H2_46.5PSI_5SLM_76.6_1_00000.csv')\n",
    "\n",
    "df = df.drop(['p'], axis=1)\n",
    "\n",
    "df.to_csv('C:\\\\Users\\\\Quantum\\\\Desktop\\\\Raman Spectra\\\\20220406 H2 equilibrium tests\\\\20220406_H2_46.5PSI_5SLM_76.6_1_00000.csv', index=False, header=False)"
   ]
  },
  {
   "cell_type": "code",
   "execution_count": 59,
   "metadata": {},
   "outputs": [
    {
     "name": "stdout",
     "output_type": "stream",
     "text": [
      "x-y(1)\n",
      "[1.850000023841858, 2.0, 1.600000023841858, -1.149999976158142, -1.0, 0.8500000238418579, 2.0999999046325684, 1.399999976158142, 2.9000000953674316, 3.549999952316284, 5.0, 3.4000000953674316, 6.0, 7.949999809265137, 12.5, 27.450000762939453, 56.95000076293945, 125.9000015258789, 274.45001220703125, 430.79998779296875]\n",
      "[1.85, 1.9310169999999998, 2.0907459999999998, 1.358035, -0.725414, -1.478867, -0.6555449999999999, 0.691534, 1.906264, 1.8718169999999998, 1.413657, 2.490439, 3.175555, 3.786567, 4.991445, 4.002318, 3.7016419999999997, 5.877569, 7.367252000000001, 8.863694]\n"
     ]
    },
    {
     "data": {
      "text/plain": [
       "[<matplotlib.lines.Line2D at 0x14d82b96518>]"
      ]
     },
     "execution_count": 59,
     "metadata": {},
     "output_type": "execute_result"
    },
    {
     "data": {
      "image/png": "[encoded data removed]",
      "text/plain": [
       "<Figure size 432x288 with 1 Axes>"
      ]
     },
     "metadata": {
      "needs_background": "light"
     },
     "output_type": "display_data"
    }
   ],
   "source": [
    "from specio import specread\n",
    "from specio.datasets import load_spc_path\n",
    "import matplotlib.pyplot as plt\n",
    "\n",
    "\n",
    "spectra = specread('C:\\\\Users\\\\Quantum\\\\Desktop\\\\Raman Spectra\\\\20220412 H2 test LN2 DUT2 0.5in8cm\\\\20220412_H2_154PSI_0.5SLM_77.3K_1_00000.spc')\n",
    "spectra.amplitudes = spectra.amplitudes.tolist()\n",
    "\n",
    "df = pd.read_csv('C:\\\\Users\\\\Quantum\\\\Desktop\\\\Raman Spectra\\\\20220412 H2 test LN2 DUT2 0.5in8cm\\\\20220412_H2_154PSI_0.5SLM_77.3K_1_00000.csv', header=None)\n",
    "amp = df[1].tolist()\n",
    "\n",
    "print(spectra.amplitudes[:20])\n",
    "print(amp[:20])\n",
    "\n",
    "# plt.plot(spectra.amplitudes)\n",
    "plt.plot(amp)\n"
   ]
  },
  {
   "cell_type": "code",
   "execution_count": 9,
   "metadata": {},
   "outputs": [
    {
     "name": "stdout",
     "output_type": "stream",
     "text": [
      "6\n",
      "100.89 PSIG\n"
     ]
    }
   ],
   "source": [
    "# Extraction of units\n",
    "value = '100.89PSIG'\n",
    "\n",
    "def splitUnits(value):\n",
    "    for idx, i in enumerate(value):\n",
    "        if i.isalpha():\n",
    "            break\n",
    "    print(value[:idx], value[idx:])\n",
    "    \n",
    "splitUnits(value)"
   ]
  },
  {
   "cell_type": "code",
   "execution_count": 21,
   "metadata": {},
   "outputs": [
    {
     "name": "stdout",
     "output_type": "stream",
     "text": [
      "20220404_He_110_48.6_10_1_00000.csv\n",
      "20220404_He_293_0_3_1_00000.csv\n",
      "20220405_He_177.81PSIG_26.2K_2.4SLM_1_00000.csv\n",
      "20220405_He_177.81PSIG_26.2K_2.4SLM_1_00001.csv\n",
      "20220405_He_177.81PSIG_26.2K_2.4SLM_1_00002.csv\n",
      "20220405_He_18.32PSIG_26.4K_12.4SLM_1_00000.csv\n",
      "20220405_He_18.32PSIG_26.4K_12.4SLM_1_00001.csv\n",
      "20220405_He_18.32PSIG_26.4K_12.4SLM_1_00002.csv\n",
      "20220405_He_294.65PSIG_26.2K_2.3SLM_1_00000.csv\n",
      "20220405_He_294.65PSIG_26.2K_2.3SLM_1_00001.csv\n",
      "20220405_He_294.65PSIG_26.2K_2.3SLM_1_00002.csv\n",
      "20220405_He_432.76PSIG_26.3K_3.0SLM_1_00000.csv\n",
      "20220405_He_432.76PSIG_26.3K_3.0SLM_1_00001.csv\n",
      "20220405_He_432.76PSIG_26.3K_3.0SLM_1_00002.csv\n",
      "20220405_He_61.25PSIG_26.3K_2.4SLM_1_00000.csv\n",
      "20220405_He_61.25PSIG_26.3K_2.4SLM_1_00001.csv\n",
      "20220405_He_61.25PSIG_26.3K_2.4SLM_1_00002.csv\n",
      "20220406_H2_0.38PSIG_0.5SLM_294K_1_00000.csv\n",
      "20220406_H2_0.38PSIG_0.5SLM_294K_1_00001.csv\n",
      "20220406_H2_0.38PSIG_0.5SLM_294K_1_00002.csv\n",
      "20220406_H2_117.35PSIG_0.5SLM_293K_4_00000.csv\n",
      "20220406_H2_117.35PSIG_0.5SLM_293K_4_00001.csv\n",
      "20220406_H2_117.35PSIG_0.5SLM_293K_4_00002.csv\n",
      "20220406_H2_175.75PSIG_0.5SLM_293K_5_00000.csv\n",
      "20220406_H2_175.75PSIG_0.5SLM_293K_5_00001.csv\n",
      "20220406_H2_175.75PSIG_0.5SLM_293K_5_00002.csv\n",
      "20220406_H2_18.95PSIG_0.5SLM_294K_2_00000.csv\n",
      "20220406_H2_18.95PSIG_0.5SLM_294K_2_00001.csv\n",
      "20220406_H2_18.95PSIG_0.5SLM_294K_2_00002.csv\n",
      "20220406_H2_230.40PSIG_0.5SLM_292K_5_00000.csv\n",
      "20220406_H2_230.40PSIG_0.5SLM_292K_5_00001.csv\n",
      "20220406_H2_230.40PSIG_0.5SLM_292K_5_00002.csv\n",
      "20220406_H2_290.17PSIG_0.5SLM_292K_5_00000.csv\n",
      "20220406_H2_290.17PSIG_0.5SLM_292K_5_00001.csv\n",
      "20220406_H2_290.17PSIG_0.5SLM_292K_5_00002.csv\n",
      "20220406_H2_362.20PSIG_0.5SLM_292K_7_00000.csv\n",
      "20220406_H2_362.20PSIG_0.5SLM_292K_7_00001.csv\n",
      "20220406_H2_362.20PSIG_0.5SLM_292K_7_00002.csv\n",
      "20220406_H2_43.96PSI_0.5SLM_97.7_K_00000.csv\n",
      "20220406_H2_436.65PSIG_0.5SLM_292K_8_00000.csv\n",
      "20220406_H2_436.65PSIG_0.5SLM_292K_8_00001.csv\n",
      "20220406_H2_436.65PSIG_0.5SLM_292K_8_00002.csv\n",
      "20220406_H2_44.6PSI_1SLM_81.3_K_00000.csv\n",
      "20220406_H2_45.14PSI_1.02SLM_27.1K_00000.csv\n",
      "20220406_H2_45.48PSI_1.02SLM_26.8K_00000.csv\n",
      "20220406_H2_45.48PSI_1.02SLM_26.8K_2_00000.csv\n",
      "20220406_H2_46.5PSI_5SLM_76.6_1_00000.csv\n",
      "20220406_H2_48.07PSI_7.13SLM_29.4K_00000.csv\n",
      "20220406_H2_59.75PSIG_0.5SLM_294K_3_00000.csv\n",
      "20220406_H2_59.75PSIG_0.5SLM_294K_3_00001.csv\n",
      "20220406_H2_59.75PSIG_0.5SLM_294K_3_00002.csv\n",
      "20220412_H2_154PSI_0.5SLM_77.3K_1_00000.csv\n",
      "20220425_H2_100.06PSIG_2.01SLM_77.7K_1_00000.csv\n",
      "20220425_H2_100.12PSIG_4SLM_77.7K_1_00000.csv\n",
      "20220425_H2_100.41PSIG_1.01SLM_77.7K_1_00000.csv\n",
      "20220425_H2_100.57PSIG_0.51SLM_77.7K_1_00000.csv\n",
      "20220425_H2_100.75PSIG_2.01SLM_77.7K_1_00000.csv\n",
      "20220425_H2_100.78PSIG_0.51SLM_77.7K_1_00000.csv\n",
      "20220425_H2_100.89PSIG_4SLM_77.7K_1_00000.csv\n",
      "20220425_H2_19.89PSIG_6.12SLM_77.7K_1_00000.csv\n",
      "20220425_H2_19.8PSIG_1.03SLM_77.7K_1_00000.csv\n",
      "20220425_H2_19.91PSIG_4.09SLM_77.7K_1_00000.csv\n",
      "20220425_H2_19.97PSIG_8.16SLM_77.7K_1_00000.csv\n",
      "20220425_H2_20.09PSIG_0.52SLM_77.7K_1_00000.csv\n",
      "20220425_H2_20.15PSIG_0.52SLM_77.7K_1_00000.csv\n",
      "20220425_H2_20.33PSIG_8.16SLM_77.7K_1_00000.csv\n",
      "20220425_H2_20.42PSIG_0.52SLM_291.8K_1_00000.csv\n",
      "20220425_H2_20.42PSIG_2.05SLM_77.7K_1_00000.csv\n",
      "20220425_H2_20.44PSIG_4.09SLM_77.7K_1_00000.csv\n",
      "20220425_H2_20.45PSIG_0.52SLM_77.7K_1_00000.csv\n",
      "20220425_H2_20.45PSIG_10.2SLM_77.7K_1_00000.csv\n",
      "20220425_H2_20.47PSIG_10.2SLM_77.7K_1_00000.csv\n",
      "20220425_H2_20.53PSIG_1.03SLM_77.7K_1_00000.csv\n",
      "20220425_H2_20.6PSIG_2.05SLM_77.7K_1_00000.csv\n",
      "20220425_H2_20.72PSIG_6.13SLM_77.7K_1_00000.csv\n",
      "20220425_H2_99.61PSIG_7.99SLM_77.7K_1_00000.csv\n",
      "20220425_H2_99.70PSIG_9.78SLM_77.7K_1_00000.csv\n",
      "20220425_H2_99.79PSIG_6SLM_77.7K_1_00000.csv\n",
      "20220425_H2_99.83PSIG_9.7SLM_77.7K_1_00000.csv\n",
      "20220425_H2_99.99PSIG_1.01SLM_77.7K_1_00000.csv\n",
      "20220425_H2_99.99PSIG_6SLM_77.7K_1_00000.csv\n",
      "20220425_H2_99.9PSIG_8SLM_77.7K_1_00000.csv\n",
      "test.csv\n",
      "test_2.csv\n",
      "test_3.csv\n"
     ]
    }
   ],
   "source": [
    "# Check if all CSV in folder have the same values in 1st column\n",
    "import pandas as pd\n",
    "import os\n",
    "\n",
    "folder = 'C:\\\\Users\\\\Quantum\\\\Desktop\\\\Raman Spectra'\n",
    "first_iter = True\n",
    "\n",
    "# Compares a data frame to another data frame which loaded by a path\n",
    "def isSameXAxis(df, path):\n",
    "    df2 = pd.read_csv(path, header=None)\n",
    "\n",
    "    for i in range(len(df)):\n",
    "        if df[0][i] != df2[0][i]:\n",
    "            return False\n",
    "            break\n",
    "    return True\n",
    "\n",
    "for root, dirs, files in os.walk(folder):\n",
    "    # select file name\n",
    "    for file in files:\n",
    "        # check the extension of files\n",
    "        if file.endswith('.csv'):\n",
    "            # Initial setup if on the first iteration\n",
    "            if first_iter:\n",
    "                first_df = pd.read_csv(os.path.join(root, file), header=None)\n",
    "                first_iter = False\n",
    "                continue\n",
    "            # Print the file name if it does not have the same axis values\n",
    "            if not isSameXAxis(first_df, os.path.join(root, file)):\n",
    "                print(file)\n",
    "\n"
   ]
  }
 ],
 "metadata": {
  "interpreter": {
   "hash": "aa22ad72361b853ce69bde8363c6e4877403766a24c860b0def6db62fb2501a1"
  },
  "kernelspec": {
   "display_name": "Python 3.7.0 64-bit",
   "language": "python",
   "name": "python3"
  },
  "language_info": {
   "codemirror_mode": {
    "name": "ipython",
    "version": 3
   },
   "file_extension": ".py",
   "mimetype": "text/x-python",
   "name": "python",
   "nbconvert_exporter": "python",
   "pygments_lexer": "ipython3",
   "version": "3.7.0"
  },
  "orig_nbformat": 4
 },
 "nbformat": 4,
 "nbformat_minor": 2
}
