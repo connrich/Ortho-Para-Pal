{
 "cells": [
  {
   "cell_type": "markdown",
   "metadata": {},
   "source": [
    "# Filters a log to between 2 dates"
   ]
  },
  {
   "cell_type": "code",
   "execution_count": 13,
   "metadata": {},
   "outputs": [
    {
     "name": "stdout",
     "output_type": "stream",
     "text": [
      "                                           VarName          TimeString  \\\n",
      "155346                    dbAnalogins_DM301_Scaled 2022-08-09 00:00:05   \n",
      "155347                    dbAnalogins_FCH2i_Scaled 2022-08-09 00:00:05   \n",
      "155348                    dbAnalogins_FCHXi_Scaled 2022-08-09 00:00:05   \n",
      "155349                    dbAnalogins_PT101_Scaled 2022-08-09 00:00:05   \n",
      "155350                    dbAnalogins_PT201_Scaled 2022-08-09 00:00:05   \n",
      "...                                            ...                 ...   \n",
      "362677  dbLakeShoreReadings_TSHeatShield_RealValue 2022-08-14 23:59:23   \n",
      "362678                dbSystem_Config_HT110 TempSP 2022-08-14 23:59:23   \n",
      "362679                dbSystem_Config_HT111 TempSP 2022-08-14 23:59:23   \n",
      "362680               dbAnalogout_FCH2q_ManualValue 2022-08-14 23:59:23   \n",
      "362681                dbAnalogout_FCXq_ManualValue 2022-08-14 23:59:23   \n",
      "\n",
      "          VarValue  Validity       Time_ms  \n",
      "155346  -47.531110         1  4.478200e+10  \n",
      "155347  -11.977480         1  4.478200e+10  \n",
      "155348    0.110754         1  4.478200e+10  \n",
      "155349  108.163300         1  4.478200e+10  \n",
      "155350   14.956800         1  4.478200e+10  \n",
      "...            ...       ...           ...  \n",
      "362677  296.646800         1  4.478800e+10  \n",
      "362678   77.000000         1  4.478800e+10  \n",
      "362679   77.000000         1  4.478800e+10  \n",
      "362680    0.000000         1  4.478800e+10  \n",
      "362681    0.500000         1  4.478800e+10  \n",
      "\n",
      "[207336 rows x 5 columns]\n"
     ]
    }
   ],
   "source": [
    "import pandas as pd\n",
    "import datetime\n",
    "\n",
    "# (year, month, day)\n",
    "start_date = datetime.datetime(2022, 8, 8)\n",
    "end_date = datetime.datetime(2022, 8, 15)\n",
    "\n",
    "log = pd.read_csv('C:\\\\Users\\\\Quantum\\\\Desktop\\\\P619_shell_20220816.csv', low_memory=False)\n",
    "\n",
    "log['TimeString'] = pd.to_datetime(log['TimeString'], format='%d/%m/%Y %I:%M:%S %p')\n",
    "\n",
    "log = log[log['TimeString'] > start_date]\n",
    "log = log[log['TimeString'] < end_date]\n",
    "\n",
    "log.to_csv(f'Y:\\\\2022_General\\\\QTC\\Manufacturing\\\\P619 Shell\\\\08. Experimental\\\\02 HMI Data Logging\\\\{start_date.strftime(\"%Y%m%d\")}_WeekSensorData.csv', index=False)\n",
    "print(log)\n"
   ]
  },
  {
   "cell_type": "code",
   "execution_count": 1,
   "metadata": {},
   "outputs": [
    {
     "name": "stdout",
     "output_type": "stream",
     "text": [
      "                                           VarName              TimeString  \\\n",
      "0                     dbAnalogins_BPR301 PT_Scaled  04/08/2022 12:08:05 PM   \n",
      "1                           dbAnalogins_LEL_Scaled  04/08/2022 12:08:05 PM   \n",
      "2              dbLakeShoreReadings_TS110_RealValue  04/08/2022 12:08:05 PM   \n",
      "3              dbLakeShoreReadings_TS111_RealValue  04/08/2022 12:08:05 PM   \n",
      "4              dbLakeShoreReadings_TS112_RealValue  04/08/2022 12:08:05 PM   \n",
      "...                                            ...                     ...   \n",
      "410581  dbLakeShoreReadings_TSHeatShield_RealValue   16/08/2022 9:15:04 AM   \n",
      "410582                dbSystem_Config_HT110 TempSP   16/08/2022 9:15:04 AM   \n",
      "410583                dbSystem_Config_HT111 TempSP   16/08/2022 9:15:04 AM   \n",
      "410584               dbAnalogout_FCH2q_ManualValue   16/08/2022 9:15:04 AM   \n",
      "410585                dbAnalogout_FCXq_ManualValue   16/08/2022 9:15:04 AM   \n",
      "\n",
      "          VarValue  Validity       Time_ms  \n",
      "0        -0.940394         1  4.477751e+10  \n",
      "1         0.358073         1  4.477751e+10  \n",
      "2       245.902100         1  4.477751e+10  \n",
      "3       232.777000         1  4.477751e+10  \n",
      "4       233.946500         1  4.477751e+10  \n",
      "...            ...       ...           ...  \n",
      "410581  192.440600         1  4.478939e+10  \n",
      "410582   30.000000         1  4.478939e+10  \n",
      "410583   30.000000         1  4.478939e+10  \n",
      "410584    0.000000         1  4.478939e+10  \n",
      "410585    0.500000         1  4.478939e+10  \n",
      "\n",
      "[410586 rows x 5 columns]\n"
     ]
    }
   ],
   "source": [
    "import pandas as pd\n",
    "\n",
    "log = pd.read_csv('C:\\\\Users\\\\Quantum\\\\Desktop\\\\P619_shell_20220816.csv')\n",
    "print(log)"
   ]
  },
  {
   "cell_type": "code",
   "execution_count": 2,
   "metadata": {},
   "outputs": [],
   "source": [
    "# Convert to 24hr clock\n",
    "\n",
    "# iterate through CSV rows\n",
    "for index, row in log.iterrows():\n",
    "    # Split timestring into [date, time, AM/PM]\n",
    "    time_string = row['TimeString'].split()\n",
    "    # Check if 'PM'\n",
    "    if time_string[-1] == 'PM':\n",
    "        t = time_string[1].split(':')\n",
    "        # 12PM(noon) is unique case \n",
    "        if t[0] == '12':\n",
    "            t = t\n",
    "        else:\n",
    "            # Increment by 12 hours\n",
    "            t[0] = str(int(t[0]) + 12)\n",
    "        t = ':'.join(t)\n",
    "        t = ' '.join([time_string[0], t])\n",
    "    \n",
    "    elif time_string[-1] == 'AM':\n",
    "        t = time_string[1].split(':')\n",
    "        # If 12AM set it to 00AM\n",
    "        if t[0] == '12':\n",
    "            t[0] = '00'\n",
    "        # Prepend zero to hour if it's a single digit (helps for Excel)\n",
    "        if len(t[0]) == 1:\n",
    "            t[0] = '0' + t[0]\n",
    "        t = ':'.join(t)\n",
    "        t = ' '.join([time_string[0], t])\n",
    "    # Keep time string the same if it is already correct format\n",
    "    else:\n",
    "        t = time_string[0]\n",
    "\n",
    "    # Replace the old time string\n",
    "    log.iat[index, log.columns.get_loc('TimeString')] = t\n",
    "    \n",
    "log['TimeString'] = log['TimeString'].str.replace('/', '-')\n"
   ]
  },
  {
   "cell_type": "code",
   "execution_count": 3,
   "metadata": {},
   "outputs": [],
   "source": [
    "log.to_csv('C:\\\\Users\\\\Quantum\\\\Desktop\\\\P619_20220816_24hr.csv')"
   ]
  },
  {
   "cell_type": "code",
   "execution_count": 51,
   "metadata": {},
   "outputs": [],
   "source": [
    "# Concatenates 2 csv log files\n",
    "l1 = pd.read_csv('C:\\\\Users\\\\Quantum\\\\Downloads\\\\P619_2022_05_020.csv')\n",
    "l2 = pd.read_csv('C:\\\\Users\\\\Quantum\\\\Downloads\\\\P619_2022_04_280 (3).csv')\n",
    "\n",
    "log = pd.concat([l1, l2], ignore_index=True, sort=False)"
   ]
  }
 ],
 "metadata": {
  "interpreter": {
   "hash": "964e9eac9e20632a3c910ebdf4afa91ec407f6830fc6831e589fbd0389d624bd"
  },
  "kernelspec": {
   "display_name": "Python 3.7.0 64-bit",
   "language": "python",
   "name": "python3"
  },
  "language_info": {
   "codemirror_mode": {
    "name": "ipython",
    "version": 3
   },
   "file_extension": ".py",
   "mimetype": "text/x-python",
   "name": "python",
   "nbconvert_exporter": "python",
   "pygments_lexer": "ipython3",
   "version": "3.7.0"
  },
  "orig_nbformat": 4
 },
 "nbformat": 4,
 "nbformat_minor": 2
}
