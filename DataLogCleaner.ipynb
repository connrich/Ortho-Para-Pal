{
 "cells": [
  {
   "cell_type": "code",
   "execution_count": 48,
   "metadata": {},
   "outputs": [],
   "source": [
    "import pandas as pd\n",
    "\n",
    "log = pd.read_csv('C:\\\\Users\\\\Quantum\\\\Downloads\\\\P619_2022_05_020.csv')\n"
   ]
  },
  {
   "cell_type": "code",
   "execution_count": 52,
   "metadata": {},
   "outputs": [],
   "source": [
    "# Convert to 24hr clock\n",
    "\n",
    "# iterate through CSV rows\n",
    "for index, row in log.iterrows():\n",
    "    # Split timestring into [date, time, AM/PM]\n",
    "    time_string = row['TimeString'].split()\n",
    "    # Check if 'PM'\n",
    "    if time_string[-1] == 'PM':\n",
    "        t = time_string[1].split(':')\n",
    "        # 12PM(noon) is unique case \n",
    "        if t[0] == '12':\n",
    "            t = t\n",
    "        else:\n",
    "            # Increment by 12 hours\n",
    "            t[0] = str(int(t[0]) + 12)\n",
    "        t = ':'.join(t)\n",
    "        t = ' '.join([time_string[0], t])\n",
    "    # If 12AM set it to 00AM\n",
    "    elif time_string[-1] == 'AM':\n",
    "        t = time_string[1].split(':')\n",
    "        if t[0] == '12':\n",
    "            t[0] = '00'\n",
    "        if len(t[0]) == 1:\n",
    "            t[0] = '0' + t[0]\n",
    "        t = ':'.join(t)\n",
    "        t = ' '.join([time_string[0], t])\n",
    "    else:\n",
    "        t = time_string[0]\n",
    "\n",
    "    log.iat[index, log.columns.get_loc('TimeString')] = t\n",
    "    \n",
    "log['TimeString'] = log['TimeString'].str.replace('/', '-')\n"
   ]
  },
  {
   "cell_type": "code",
   "execution_count": 53,
   "metadata": {},
   "outputs": [],
   "source": [
    "log.to_csv('C:\\\\Users\\\\Quantum\\\\Downloads\\\\P619_Combined_Log.csv')"
   ]
  },
  {
   "cell_type": "code",
   "execution_count": 51,
   "metadata": {},
   "outputs": [],
   "source": [
    "# Concatenates 2 csv log files\n",
    "l1 = pd.read_csv('C:\\\\Users\\\\Quantum\\\\Downloads\\\\P619_2022_05_020.csv')\n",
    "l2 = pd.read_csv('C:\\\\Users\\\\Quantum\\\\Downloads\\\\P619_2022_04_280 (3).csv')\n",
    "\n",
    "log = pd.concat([l1, l2], ignore_index=True, sort=False)"
   ]
  }
 ],
 "metadata": {
  "interpreter": {
   "hash": "964e9eac9e20632a3c910ebdf4afa91ec407f6830fc6831e589fbd0389d624bd"
  },
  "kernelspec": {
   "display_name": "Python 3.7.0 64-bit",
   "language": "python",
   "name": "python3"
  },
  "language_info": {
   "codemirror_mode": {
    "name": "ipython",
    "version": 3
   },
   "file_extension": ".py",
   "mimetype": "text/x-python",
   "name": "python",
   "nbconvert_exporter": "python",
   "pygments_lexer": "ipython3",
   "version": "3.7.0"
  },
  "orig_nbformat": 4
 },
 "nbformat": 4,
 "nbformat_minor": 2
}
