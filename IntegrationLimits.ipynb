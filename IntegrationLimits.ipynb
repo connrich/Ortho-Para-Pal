{
 "cells": [
  {
   "cell_type": "markdown",
   "metadata": {},
   "source": [
    "# Notebook for optimizing and testing integration limits for ortho-para ratio"
   ]
  },
  {
   "cell_type": "markdown",
   "metadata": {},
   "source": [
    "#### Imports and set up"
   ]
  },
  {
   "cell_type": "code",
   "execution_count": 1,
   "metadata": {},
   "outputs": [],
   "source": [
    "import pandas as pd\n",
    "from Resources.RatioFinder import RatioFinder\n",
    "from matplotlib import pyplot as plt\n",
    "\n",
    "xlabel = 'Raman Shift (1/cm)'\n",
    "ylabel = 'Intensity Count'\n",
    "\n",
    "ortho_range = [580.0, 595.0]\n",
    "para_range = [347.0, 365.0]"
   ]
  },
  {
   "cell_type": "markdown",
   "metadata": {},
   "source": [
    "#### Load spectrum and perform processing such as background subtraction"
   ]
  },
  {
   "cell_type": "code",
   "execution_count": 2,
   "metadata": {},
   "outputs": [
    {
     "name": "stdout",
     "output_type": "stream",
     "text": [
      "                0         1\n",
      "0       33.738186  0.960000\n",
      "1       35.319993 -0.078084\n",
      "2       36.901800 -0.061585\n",
      "3       38.483606  0.657989\n",
      "4       40.065413  0.800273\n",
      "...           ...       ...\n",
      "2043  3265.369550  2.319508\n",
      "2044  3266.951357 -0.625369\n",
      "2045  3268.533164 -0.915317\n",
      "2046  3270.114971  1.198232\n",
      "2047  3271.696777  0.160000\n",
      "\n",
      "[2048 rows x 2 columns]\n"
     ]
    }
   ],
   "source": [
    "spectrum = pd.read_csv('C:\\\\Users\\\\Quantum\\\\Desktop\\\\Raman Spectra\\\\20220615 Copper Braid x3\\\\20220615_1500_H2_5,01PSIG_0,51SLM_24,7K_29,4K_00000_counts.csv', header=None)\n",
    "background = pd.read_csv('C:\\\\Users\\\\Quantum\\\\Desktop\\\\Raman Spectra\\\\20220519 Helium Background\\\\20220519_He_5,3PSIG_0,2SLM_295K_1000ms_50av_0ms_3_450mw_00000_counts.csv', header=None)\n",
    "\n",
    "spectrum[1] = spectrum[1] - background[1]"
   ]
  },
  {
   "cell_type": "markdown",
   "metadata": {},
   "source": [
    "#### Plot para integration limits"
   ]
  },
  {
   "cell_type": "code",
   "execution_count": 7,
   "metadata": {},
   "outputs": [
    {
     "data": {
      "text/plain": [
       "(342.0, 370.0)"
      ]
     },
     "execution_count": 7,
     "metadata": {},
     "output_type": "execute_result"
    },
    {
     "data": {
      "image/png": "[encoded data removed]",
      "text/plain": [
       "<Figure size 432x288 with 1 Axes>"
      ]
     },
     "metadata": {
      "needs_background": "light"
     },
     "output_type": "display_data"
    }
   ],
   "source": [
    "plt.plot(spectrum[0], spectrum[1])\n",
    "\n",
    "plt.axvline(x=ortho_range[0], color='red')\n",
    "plt.axvline(x=ortho_range[1], color='red')\n",
    "plt.axvline(x=para_range[0], color='green')\n",
    "plt.axvline(x=para_range[1], color='green')\n",
    "\n",
    "plt.xlim(para_range[0]-5, para_range[1]+5)\n"
   ]
  },
  {
   "cell_type": "markdown",
   "metadata": {},
   "source": [
    "#### Plot ortho integration limits"
   ]
  },
  {
   "cell_type": "code",
   "execution_count": 9,
   "metadata": {},
   "outputs": [
    {
     "data": {
      "text/plain": [
       "(575.0, 600.0)"
      ]
     },
     "execution_count": 9,
     "metadata": {},
     "output_type": "execute_result"
    },
    {
     "data": {
      "image/png": "[encoded data removed]",
      "text/plain": [
       "<Figure size 432x288 with 1 Axes>"
      ]
     },
     "metadata": {
      "needs_background": "light"
     },
     "output_type": "display_data"
    }
   ],
   "source": [
    "plt.plot(spectrum[0], spectrum[1])\n",
    "plt.axvline(x=ortho_range[0], color='red')\n",
    "plt.axvline(x=ortho_range[1], color='red')\n",
    "plt.axvline(x=para_range[0], color='green')\n",
    "plt.axvline(x=para_range[1], color='green')\n",
    "\n",
    "plt.xlim(ortho_range[0]-5, ortho_range[1]+5)\n"
   ]
  }
 ],
 "metadata": {
  "interpreter": {
   "hash": "964e9eac9e20632a3c910ebdf4afa91ec407f6830fc6831e589fbd0389d624bd"
  },
  "kernelspec": {
   "display_name": "Python 3.7.0 64-bit",
   "language": "python",
   "name": "python3"
  },
  "language_info": {
   "codemirror_mode": {
    "name": "ipython",
    "version": 3
   },
   "file_extension": ".py",
   "mimetype": "text/x-python",
   "name": "python",
   "nbconvert_exporter": "python",
   "pygments_lexer": "ipython3",
   "version": "3.7.0"
  },
  "orig_nbformat": 4
 },
 "nbformat": 4,
 "nbformat_minor": 2
}
